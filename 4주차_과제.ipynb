{
  "nbformat": 4,
  "nbformat_minor": 0,
  "metadata": {
    "colab": {
      "name": "4주차 과제.ipynb",
      "provenance": [],
      "collapsed_sections": [],
      "include_colab_link": true
    },
    "kernelspec": {
      "name": "python3",
      "display_name": "Python 3"
    }
  },
  "cells": [
    {
      "cell_type": "markdown",
      "metadata": {
        "id": "view-in-github",
        "colab_type": "text"
      },
      "source": [
        "<a href=\"https://colab.research.google.com/github/alex4019/lee-youngbin.github.io/blob/master/4%EC%A3%BC%EC%B0%A8_%EA%B3%BC%EC%A0%9C.ipynb\" target=\"_parent\"><img src=\"https://colab.research.google.com/assets/colab-badge.svg\" alt=\"Open In Colab\"/></a>"
      ]
    },
    {
      "cell_type": "markdown",
      "metadata": {
        "id": "wxkL6PjwsI6L",
        "colab_type": "text"
      },
      "source": [
        "# 4주차 과제\n",
        "- 용어 정리\n",
        "- 딥러닝 강의 클론 코딩\n",
        "- 딥러닝 순전파 & 역전파 계산"
      ]
    },
    {
      "cell_type": "markdown",
      "metadata": {
        "id": "ixEtDe6_uGgI",
        "colab_type": "text"
      },
      "source": [
        "## 1. 용어 정리\n",
        "\n",
        "다음 제시된 단어의 정의(설명)를 정리하여 작성 하세요.\n",
        "\n",
        "* 2문장 이상 작성 해 주세요. \n",
        "* 주제(단어)와 크게 벗어나지만 않는다면 정답처리 됩니다.\n",
        "* 강의 뿐 아니라 기타 레퍼런스를 참고하여 작성하셔도 됩니다. (기타 레퍼런스를 참고하신 경우, 해당 레퍼런스를 정리하여 하단에 작성해 주세요.)\n"
      ]
    },
    {
      "cell_type": "markdown",
      "metadata": {
        "id": "0lfwat8eurKZ",
        "colab_type": "text"
      },
      "source": [
        "__(예시)__\n",
        "### 심층 신경망\n",
        ": 입력층과 출력층 사이에 여러 개의 은닉층들로 이뤄진 인공신경망이다. 심층 신경망은 일반적으로 인공신경망과 마찬가지로 복잡한 비선형 관계들을 모델링 할 수 있다. 신층신경망의 목적은 분류 및 수치예측을 하기 위함이고 이미지 트레이닝이나 문자인식과 같은 분야에서 매우 유용하게 쓰이고 있다."
      ]
    },
    {
      "cell_type": "markdown",
      "metadata": {
        "id": "Y8YJNKG_v65A",
        "colab_type": "text"
      },
      "source": [
        "### MCP 뉴런\n",
        ":MCP 뉴런이란 워런 매컬러와 월터 피츠가 소개한 뉴런으로 최초의 인공신경망 구조이다. MCP뉴런은 명제 논리를 사용해 동물 뇌의 생물학적 뉴런이 복잡한 계산을 위해 어떻게 상호작용하는지에 대한 간단한 계산 모델을 제시한 것이다. \n",
        "\n",
        "### 퍼셉트론\n",
        ": 퍼셉트론은 가장 간단한 인공신경망 구조 중 하나로 TLU(threshold logic unit)이라고 불리는 인공 뉴런을 기반으로 한다. TLU난 입력의 가주이의 합을 계산한 뒤 계산된 합에 계산 함수를 적용해 결과를 출력하는 구조이다. \n",
        "\n",
        "### 역전파\n",
        ": 역전파 알고리즘은 루멜하트, 힌턴, 윌리엄스가 1985년에 소개한 알고리즘으로 역전파 알고리즘은 효율적인 기법으로 그레이디언트를 자동으로 계산하는 경사하강법이다. 작동방식은 우선 정방항 계산을 오차를 측정하고 이후 역방향 계산으로 각 연결이 오차에 기여한 정도를 측정 이후 오차가 감소하도록 가중치를 조정하는 방식이다.\n",
        "\n",
        "### 강화학습\n",
        ": 강화 학습에서 소프트웨어 에이전트는 관측을 하고 주어진 환경에서 행동을 하고 그 결과로 보상받는다. 에이전트의 목적은 보상의 장기간 기대치를 최대로 만드는 행동을 학습하는데 이러한 학습을 강화학습이라고 부른다. 즉 강화 학습은 에이전트의 보상을 최적화하기 위한 학습이다.\n",
        "\n",
        "### 과적합\n",
        ": 과적합은 훈련 데이터에 있는 잡음의 양에 비해 모델이 복잡할때 발생한다. 이를 해결하기 위해서는 모델을 단순화시키는 방법, 훈련 데이터를 더 많이 모으는 방법, 훈련 데이터의 잡음을 줄이는 방법(오류 데이터 수정 및 이상치 제거)등이 있다.\n",
        "\n",
        "### 차원의 저주\n",
        ": 차원의 저주는 차원이 커지면 커질수록 훈련 데이터 간 거리가 늘어나는 것을 의미한다. 이러한 훈련 세트간의 차원이 클수록 과대적합의 위험이 늘어나 모델이 망가질 수 있다. 다시 말해 차원의 저주는 훈련 샘플들이 많은 특성을 보유하고 있어 훈련을 느리게 할 뿐만 아니라 좋은 솔루션을 찾기 어렵게 만드는 것을 의미한다. 이러한 차원의 저주를 해결하는 방법에는 훈련 세트의 크기를 키우는 방법이 있지만 이는 실효성이 매우 낮으며 차원 축소가 가장 현실적인 해결책이다.\n",
        "\n",
        "\n",
        "####참고문헌\n",
        ": 오렐리앙 제롱, 2020, 핸즈온 머신러닝 2판,한빛미디어\n"
      ]
    },
    {
      "cell_type": "markdown",
      "metadata": {
        "id": "d-zfFXLCy6jD",
        "colab_type": "text"
      },
      "source": [
        "## 2. 딥러닝 강의 클론 코딩\n",
        "\n",
        "####__퍼셉트론 구조 구현하기__ \n",
        "딥러닝 강의(__딥러닝 원리[1] 3:15 ~ 5:15 부분__)를 보고 코드를 따라 치며 출력 결과를 만드세요.\n",
        " \n",
        "\n",
        "* 하나의 코드셀에 해당 코드를 한번에 다 적어서 실행해주세요 (__그렇게 하지 않을 경우, 아래 이미지와 같은 출력값이 나오지 않을 수 있습니다__)\n",
        "\n",
        "*__주의!__ 실제로 코딩해서 출력해보면 강의에 나온 출력 결과와 다르게 나옵니다!!\n"
      ]
    },
    {
      "cell_type": "code",
      "metadata": {
        "id": "V3rmt_G0r-yN",
        "colab_type": "code",
        "colab": {
          "base_uri": "https://localhost:8080/",
          "height": 210
        },
        "outputId": "ebca2074-ee33-4822-d800-d48054b86b3c"
      },
      "source": [
        "import tensorflow as tf\n",
        "tf.compat.v1.set_random_seed(2020)\n",
        "x = 1\n",
        "y = 0\n",
        "w = tf.random.normal([1], 0,1)\n",
        "\n",
        "import math\n",
        "def sigmoid(x):\n",
        "  return 1/(1 + math.exp(-x))\n",
        "output = sigmoid(x *w)\n",
        "print(output)\n",
        "\n",
        "for i in range(1000):\n",
        "  output = sigmoid(x*w)\n",
        "  error = y - output\n",
        "  w = w + x*0.1*error\n",
        "\n",
        "  if i %100 == 99:\n",
        "    print('학습횟수:', i, 'Error:', error, '예측결과', output)"
      ],
      "execution_count": null,
      "outputs": [
        {
          "output_type": "stream",
          "text": [
            "0.47477188589261\n",
            "학습횟수: 99 Error: -0.10010598284299604 예측결과 0.10010598284299604\n",
            "학습횟수: 199 Error: -0.05178399422833116 예측결과 0.05178399422833116\n",
            "학습횟수: 299 Error: -0.034590451977903586 예측결과 0.034590451977903586\n",
            "학습횟수: 399 Error: -0.02588962752851373 예측결과 0.02588962752851373\n",
            "학습횟수: 499 Error: -0.020658699939863617 예측결과 0.020658699939863617\n",
            "학습횟수: 599 Error: -0.017174253993457355 예측결과 0.017174253993457355\n",
            "학습횟수: 699 Error: -0.014689506449480992 예측결과 0.014689506449480992\n",
            "학습횟수: 799 Error: -0.012829497265431342 예측결과 0.012829497265431342\n",
            "학습횟수: 899 Error: -0.011385568271837804 예측결과 0.011385568271837804\n",
            "학습횟수: 999 Error: -0.010232493309882492 예측결과 0.010232493309882492\n"
          ],
          "name": "stdout"
        }
      ]
    },
    {
      "cell_type": "markdown",
      "metadata": {
        "id": "wcc5mzI9oZ7r",
        "colab_type": "text"
      },
      "source": [
        "![대체 텍스트](https://www.notion.so/image/https%3A%2F%2Fs3-us-west-2.amazonaws.com%2Fsecure.notion-static.com%2F0cceeed0-0235-4b0f-af88-0b8c377d5b4b%2F_2020-06-09__9.35.23.png?table=block&id=88fd8912-9356-49a4-9fda-a1a63fe96ea9&width=2870&cache=v2)"
      ]
    },
    {
      "cell_type": "markdown",
      "metadata": {
        "id": "kr0HVRk8fOom",
        "colab_type": "text"
      },
      "source": [
        "## 3. 딥러닝 순전파 & 역전파 계산\n",
        "\n",
        "딥러닝 강의(__딥러닝 원리[2] 0:55 ~ 4:32 부분__)에 나오는 순전파 & 역전파 계산에 대한 문제 입니다.\n",
        "\n",
        "해당 영상과 다음 이미지를 참고하여 다음 2가지 물음에 답하세요.\n",
        "\n",
        "\n",
        "(1) 학습률이 0.2 일 경우 출력층의 노드값\n",
        "\n",
        "(2) 학습률이 0.1과 0.2 중 기대출력값이 지도데이터 \"3\"과 더 가까운 학습률은?"
      ]
    },
    {
      "cell_type": "markdown",
      "metadata": {
        "id": "CpwPFWhOUzww",
        "colab_type": "text"
      },
      "source": [
        "![대체 텍스트](https://www.notion.so/image/https%3A%2F%2Fs3-us-west-2.amazonaws.com%2Fsecure.notion-static.com%2Ff54dfd45-92ec-44ae-9616-6949d2484a45%2F_2020-06-10__5.22.03.png?table=block&id=ee05da89-3ceb-4ad9-a2d3-c9f68d24d1d9&width=3580&cache=v2)"
      ]
    },
    {
      "cell_type": "markdown",
      "metadata": {
        "id": "B2OVY7w5U3CI",
        "colab_type": "text"
      },
      "source": [
        "## (1) 학습률이 0.2 일 경우 출력층의 노드값 : \n",
        "## (2) 학습률이 0.1과 0.2 중 기대출력값이 지도데이터 \"3\"과 더 가까운 학습률은? : "
      ]
    },
    {
      "cell_type": "markdown",
      "metadata": {
        "id": "1H706G9icZke",
        "colab_type": "text"
      },
      "source": [
        "1. 학습률이 0.2일 경우 출력층의 노드값은 0.4이다.\n",
        "\n",
        "\n",
        "2. 학습률이 0.1일 경우에 기대출력값이 2.65이며 학습률이 0.2일 경우 기대출력값이 1.6이므로 학습률이 0.1일때 지도데이터 '3'과 가깝다고 볼 수 있다."
      ]
    },
    {
      "cell_type": "code",
      "metadata": {
        "id": "NP7k9NUTcXqp",
        "colab_type": "code",
        "colab": {}
      },
      "source": [
        ""
      ],
      "execution_count": null,
      "outputs": []
    }
  ]
}