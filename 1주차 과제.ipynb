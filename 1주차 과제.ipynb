{
  "nbformat": 4,
  "nbformat_minor": 0,
  "metadata": {
    "colab": {
      "name": "Untitled4.ipynb",
      "provenance": [],
      "authorship_tag": "ABX9TyOvbsR5Bc0lPZRVy0xHZaov",
      "include_colab_link": true
    },
    "kernelspec": {
      "name": "python3",
      "display_name": "Python 3"
    }
  },
  "cells": [
    {
      "cell_type": "markdown",
      "metadata": {
        "id": "view-in-github",
        "colab_type": "text"
      },
      "source": [
        "<a href=\"https://colab.research.google.com/github/alex4019/lee-youngbin.github.io/blob/master/1%EC%A3%BC%EC%B0%A8%20%EA%B3%BC%EC%A0%9C.ipynb\" target=\"_parent\"><img src=\"https://colab.research.google.com/assets/colab-badge.svg\" alt=\"Open In Colab\"/></a>"
      ]
    },
    {
      "cell_type": "markdown",
      "metadata": {
        "id": "Dw79jtTix-nf",
        "colab_type": "text"
      },
      "source": [
        "# 인공지능 사관학교 프리코스 과제\n",
        "\n",
        "#### 1주차 과제\n",
        "\n",
        "\n",
        "\n",
        "###### 1. 언어분야에서 사용되는 인공지능 - 파파고\n",
        "\n",
        "###### 2. 음성분야에서 사용되는 인공지능 - twip의 TTS\n",
        "\n",
        "###### 3. 이미지분야에서 사용되는 인공지능 - Google번역에서 사진 번역\n",
        "\n",
        "###### 4. 자율주행분야에서 사용되는 인공지능 - "
      ]
    }
  ]
}