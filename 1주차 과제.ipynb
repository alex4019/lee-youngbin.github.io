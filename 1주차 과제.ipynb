{
  "nbformat": 4,
  "nbformat_minor": 0,
  "metadata": {
    "colab": {
      "name": "Untitled4.ipynb",
      "provenance": [],
      "authorship_tag": "ABX9TyOkDYkUI5KTNsdidOPMRvmw",
      "include_colab_link": true
    },
    "kernelspec": {
      "name": "python3",
      "display_name": "Python 3"
    }
  },
  "cells": [
    {
      "cell_type": "markdown",
      "metadata": {
        "id": "view-in-github",
        "colab_type": "text"
      },
      "source": [
        "<a href=\"https://colab.research.google.com/github/alex4019/lee-youngbin.github.io/blob/master/1%EC%A3%BC%EC%B0%A8%20%EA%B3%BC%EC%A0%9C.ipynb\" target=\"_parent\"><img src=\"https://colab.research.google.com/assets/colab-badge.svg\" alt=\"Open In Colab\"/></a>"
      ]
    },
    {
      "cell_type": "markdown",
      "metadata": {
        "id": "Dw79jtTix-nf",
        "colab_type": "text"
      },
      "source": [
        "# 인공지능 사관학교 프리코스 과제\n",
        "\n",
        "#### 1주차 과제\n",
        "\n",
        "###### 1. 언어분야에서 사용되는 인공지능 - 네이버의 파파고\n",
        "\n",
        "###### 2. 음성분야에서 사용되는 인공지능 - twip의 Twip my voice\n",
        "\n",
        "###### 3. 이미지분야에서 사용되는 인공지능 - Google번역에서 사진 번역\n",
        "\n",
        "###### 4. 자율주행분야에서 사용되는 인공지능 - 테슬라의 autopilot"
      ]
    },
    {
      "cell_type": "markdown",
      "metadata": {
        "id": "BVrtay40_ELj",
        "colab_type": "text"
      },
      "source": [
        "* 언어분야에서 사용되는 인공지능 - 네이버 파파고\n",
        " + 파파고 url : <https://papago.naver.com/>\n",
        " + 파파고란?\n",
        "   * 2018년 네이버에서 제작한 인공지능 기반 번역기\n",
        "   * 에스페란토어로 파파고는 앵무새이다.\n",
        "   * Naver Labs에서 자체 개발한 인공신경망번역(NMT)를 도입\n",
        " + 파파고에 이용된 기술(NMT)이란?\n",
        "   * 인공신경망이라는 커다란 가상 공간을 통해 문장을 이해하고 번역\n",
        "   * 유사한 뜻을 가진 문장은 서로 가깝게 모여있게 만들었다.\n",
        "   * 입력된 문장 주변에 있는 정보들을 참고해 문장의 맥락을 이해해 자연스러운 번역결과를 만들어냄\n",
        "\n",
        "* 음성분야에서 사용되는 인공지능 - twip의 Twip my vocie\n",
        "  + twip url : <https://twip.kr/>, <https://myvoice.twip.kr/>\n",
        "  + twip이란?\n",
        "    * 한국 트위치(스트리링 사이트)의 서드파티 사이트\n",
        "    * 스트리머에게 후원할수 있는 스폰서쉽\n",
        "    * twip의 TTS중 스트리머의 목소리가 나오는 TTS는 인공지능 기반으로 제작됨\n",
        "  + twip의 Twip my vocie에 이용된 기술이란?\n",
        "    * 우선 스트리머의 음성을 먼저 녹음한다.\n",
        "    * 딥러닝으로 음성을 학습시킨다.\n",
        "    * 시청자가 후원을 할때 나오는 텍스트가 학습된 알고리즘을 통해 목소리를 구현한다.\n",
        "\n",
        "* 이미지분야에서 사용되는 인공지능 - Google번역의 사진번역\n",
        "  + Google번역 url: <https://translate.google.co.kr/?hl=ko>\n",
        "  + Google번역에서 사진번역이란?\n",
        "    * Google 모바일에서 사용가능한 기능\n",
        "    * 실시간으로 카메라를 통해 번역이 가능하다.\n",
        "  + Google 사진번역에서 사용된 인공지능 기술 -> OCR기술\n",
        "    * OCR기술은 광학식 문자판독으로 오프라인 데이터를 온라인으로 바꾸는 기술이다.\n",
        "    * 기존 OCR은 해상도를 높여야 작동을 잘했지만 인공지능을 이용하면 해상도 문제를 해결할 뿐만 아니라 손글씨, 기호등을 쉽게 판독할 수 있게 한다.\n",
        "\n",
        "* 자율주행분야에서 사용되는 인공지능 - 테슬라의 autopilot\n",
        "  + "
      ]
    }
  ]
}